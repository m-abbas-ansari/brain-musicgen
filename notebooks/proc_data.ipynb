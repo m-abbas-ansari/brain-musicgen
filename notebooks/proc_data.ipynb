{
 "cells": [
  {
   "cell_type": "code",
   "execution_count": 19,
   "id": "b5a63935-e9e0-490a-9a49-38362c7b5284",
   "metadata": {},
   "outputs": [],
   "source": [
    "import os\n",
    "import glob\n",
    "import numpy as np\n",
    "import nibabel as nib\n",
    "import pickle"
   ]
  },
  {
   "cell_type": "code",
   "execution_count": 23,
   "id": "ef7303ae-ca31-4062-8e5d-3c0ecc68af06",
   "metadata": {},
   "outputs": [],
   "source": [
    "bold_files = glob.glob(\"Output/sub-001/func/sub*T1w_desc-preproc_bold.nii.gz\")\n",
    "parc_file_root = \"Processed/sub-001/parcellations/aparc.a2009s.epi-{}-{}.nii.gz\""
   ]
  },
  {
   "cell_type": "code",
   "execution_count": 30,
   "id": "9e142453-39a2-49b4-8f7f-cda152b80824",
   "metadata": {},
   "outputs": [
    {
     "name": "stdout",
     "output_type": "stream",
     "text": [
      "Dumping Processed/sub-001/fmri/sub_001_task_Training_run_01_space_T1w_bold.pkl\n",
      "Dumping Processed/sub-001/fmri/sub_001_task_Training_run_02_space_T1w_bold.pkl\n",
      "Dumping Processed/sub-001/fmri/sub_001_task_Training_run_03_space_T1w_bold.pkl\n",
      "Dumping Processed/sub-001/fmri/sub_001_task_Training_run_04_space_T1w_bold.pkl\n",
      "Dumping Processed/sub-001/fmri/sub_001_task_Training_run_05_space_T1w_bold.pkl\n",
      "Dumping Processed/sub-001/fmri/sub_001_task_Training_run_06_space_T1w_bold.pkl\n",
      "Dumping Processed/sub-001/fmri/sub_001_task_Training_run_07_space_T1w_bold.pkl\n",
      "Dumping Processed/sub-001/fmri/sub_001_task_Training_run_08_space_T1w_bold.pkl\n",
      "Dumping Processed/sub-001/fmri/sub_001_task_Training_run_09_space_T1w_bold.pkl\n",
      "Dumping Processed/sub-001/fmri/sub_001_task_Training_run_10_space_T1w_bold.pkl\n",
      "Dumping Processed/sub-001/fmri/sub_001_task_Training_run_11_space_T1w_bold.pkl\n",
      "Dumping Processed/sub-001/fmri/sub_001_task_Training_run_12_space_T1w_bold.pkl\n"
     ]
    }
   ],
   "source": [
    "for bold_file in bold_files:\n",
    "    meta = bold_file.split(\"\\\\\")[-1].replace(\"-\",\"_\").split(\"_\")\n",
    "    fname = os.path.join(\"Processed/sub-001/fmri/\", \"_\".join(meta[:-3]) + \"_bold.pkl\")\n",
    "    if os.path.exists(fname): continue\n",
    "    sub, task, run, space = meta[1], meta[3], meta[5], meta[7]\n",
    "    bold_data = nib.load(bold_file).get_fdata()\n",
    "    parc_data = nib.load(parc_file_root.format(task, int(run))).get_fdata()\n",
    "    fmri = {}\n",
    "    for x in range(len(parc_data)):\n",
    "        for y in range(len(parc_data[0])):\n",
    "            for z in range(len(parc_data[0][0])):\n",
    "                label_idx = int(parc_data[x][y][z])\n",
    "                if label_idx > 11000 and label_idx < 20000: # choose cortical voxels only\n",
    "                    voxel_ts = list(bold_data[x][y][z])\n",
    "                    if label_idx not in fmri:\n",
    "                        fmri[label_idx] = [voxel_ts]\n",
    "                    else:\n",
    "                        fmri[label_idx].append(voxel_ts)\n",
    "    for key, val in fmri.items():\n",
    "        fmri[key] = np.array(val)\n",
    "    data_dict = {}\n",
    "    data_dict[\"sub\"] = sub\n",
    "    data_dict[\"task\"] = task\n",
    "    data_dict[\"run\"] = run\n",
    "    data_dict[\"space\"] = space\n",
    "    data_dict[\"fmri\"] = fmri\n",
    "    print(\"Dumping\",fname)\n",
    "    pickle.dump(data_dict, open(fname, \"wb\"), protocol=pickle.HIGHEST_PROTOCOL)"
   ]
  },
  {
   "cell_type": "code",
   "execution_count": 25,
   "id": "6cf7951b-a4a4-4d31-bd60-2536a59c19cf",
   "metadata": {},
   "outputs": [],
   "source": [
    "meta = bold_files[0].split(\"\\\\\")[-1].replace(\"-\",\"_\").split(\"_\")"
   ]
  },
  {
   "cell_type": "code",
   "execution_count": 28,
   "id": "560995e3-4466-4a82-8996-e6fbbef59bec",
   "metadata": {},
   "outputs": [
    {
     "data": {
      "text/plain": [
       "'Processed/sub-001/fmri/sub_001_task_Test_run_01_space_T1w_bold.pkl'"
      ]
     },
     "execution_count": 28,
     "metadata": {},
     "output_type": "execute_result"
    }
   ],
   "source": [
    "os.path.join(\"Processed/sub-001/fmri/\", \"_\".join(meta[:-3]) + \"_bold.pkl\")"
   ]
  },
  {
   "cell_type": "code",
   "execution_count": null,
   "id": "8c24e20e-10c5-48ee-84d4-1e3a61ed2e7f",
   "metadata": {},
   "outputs": [],
   "source": []
  }
 ],
 "metadata": {
  "kernelspec": {
   "display_name": "Python 3 (ipykernel)",
   "language": "python",
   "name": "python3"
  },
  "language_info": {
   "codemirror_mode": {
    "name": "ipython",
    "version": 3
   },
   "file_extension": ".py",
   "mimetype": "text/x-python",
   "name": "python",
   "nbconvert_exporter": "python",
   "pygments_lexer": "ipython3",
   "version": "3.11.7"
  }
 },
 "nbformat": 4,
 "nbformat_minor": 5
}
